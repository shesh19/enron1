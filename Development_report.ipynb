{
  "nbformat": 4,
  "nbformat_minor": 0,
  "metadata": {
    "colab": {
      "provenance": [],
      "authorship_tag": "ABX9TyOKOE/AKgPQBH/2k41r0Z0/",
      "include_colab_link": true
    },
    "kernelspec": {
      "name": "python3",
      "display_name": "Python 3"
    },
    "language_info": {
      "name": "python"
    }
  },
  "cells": [
    {
      "cell_type": "markdown",
      "metadata": {
        "id": "view-in-github",
        "colab_type": "text"
      },
      "source": [
        "<a href=\"https://colab.research.google.com/github/shesh19/enron1/blob/main/Development_report.ipynb\" target=\"_parent\"><img src=\"https://colab.research.google.com/assets/colab-badge.svg\" alt=\"Open In Colab\"/></a>"
      ]
    },
    {
      "cell_type": "markdown",
      "source": [
        "[link text](https://)DEVELOPMENT REPORT.\n",
        "!wget\n",
        "#to import the enron.db file in google collab\n",
        " from google collab, import drive\n",
        "#to mount files\n",
        " Connect sqlite3\n",
        "#to set up a database\n",
        " wrting sql queries \n",
        "#to define the different tables for Enron\n",
        " Check schema of database\n",
        " Check schema of tables\n",
        " import pandas\n",
        "#to fetch tables\n",
        "#to count number of emails and recipients category\n",
        "#to group the emails by day, week, month\n",
        " import seaborn and matplotlib\n",
        "#to create graphs and visualizations for better analysis of data\n",
        " using barplot and pie()\n",
        "#to show a visualisation of types of recipients(CC, BCC,TO)\n",
        "\n",
        "\n",
        "TESTING\n",
        "-ERRORS I faced for this assignment\n",
        "1. runtime error, due to disconnection on google collab, my time run out, and my codes were not running,  then i had to re run everthing from start, thanfully it was not a serious issue.\n",
        "\n",
        "2.I faced syntax errors several times as i tend to ommit brackets, and it was sometimes frustrating to find out the reason behind my failure to run the codes, but eventually i learned from my mistake.\n",
        "\n",
        "3. Thirdly, I canme across the semantic error, whereby my recipient table was not making any sense as it was defined as 'recipientinfo'.\n",
        "\n",
        "4. Also, missing a simple 's' in words like 'senders' or adding an 's' in 'recipient' was very catchy, then i had to recheck my spelling well.\n",
        "\n",
        "\n"
      ],
      "metadata": {
        "id": "lZbRG-o4aiPr"
      }
    },
    {
      "cell_type": "markdown",
      "source": [],
      "metadata": {
        "id": "FHp8AtgpaiM-"
      }
    },
    {
      "cell_type": "markdown",
      "source": [],
      "metadata": {
        "id": "sjQNr21bagzK"
      }
    }
  ]
}